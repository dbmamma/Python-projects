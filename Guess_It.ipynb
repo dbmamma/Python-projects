{
  "nbformat": 4,
  "nbformat_minor": 0,
  "metadata": {
    "colab": {
      "provenance": [],
      "authorship_tag": "ABX9TyO9NNB81WivC6mFeEwvXsVg",
      "include_colab_link": true
    },
    "kernelspec": {
      "name": "python3",
      "display_name": "Python 3"
    },
    "language_info": {
      "name": "python"
    }
  },
  "cells": [
    {
      "cell_type": "markdown",
      "metadata": {
        "id": "view-in-github",
        "colab_type": "text"
      },
      "source": [
        "<a href=\"https://colab.research.google.com/github/dbmamma/Python-projects/blob/main/Guess_It.ipynb\" target=\"_parent\"><img src=\"https://colab.research.google.com/assets/colab-badge.svg\" alt=\"Open In Colab\"/></a>"
      ]
    },
    {
      "cell_type": "code",
      "source": [
        "import random\n",
        "def comp_guess(x):\n",
        "  low = 1\n",
        "  high = x\n",
        "  feedback = ''\n",
        "  while feedback !='C':\n",
        "    if low != high:\n",
        "      guess = random.randint(low, high)\n",
        "    else:\n",
        "      guess = low\n",
        "    feedback = input(f'Is {guess} too high(H),or too low(L) or correct(C)').upper()\n",
        "    if feedback == 'H':\n",
        "      high = guess - 1\n",
        "    elif feedback == 'L':\n",
        "      low = guess + 1\n",
        "  print(f'Yeah, the computer guessed it right!!')"
      ],
      "metadata": {
        "id": "pc-gxfWsJkKU"
      },
      "execution_count": 9,
      "outputs": []
    },
    {
      "cell_type": "code",
      "source": [
        "x = int(input(\"Enter the number!\"))\n",
        "comp_guess(x)"
      ],
      "metadata": {
        "colab": {
          "base_uri": "https://localhost:8080/"
        },
        "id": "FFumAcDWL6hq",
        "outputId": "ccc33d54-06fd-4b5e-a9b0-f5d0a987480a"
      },
      "execution_count": 10,
      "outputs": [
        {
          "output_type": "stream",
          "name": "stdout",
          "text": [
            "Enter the number!10\n",
            "Is 3 too high(H),or too low(L) or correct(C)L\n",
            "Is 6 too high(H),or too low(L) or correct(C)L\n",
            "Is 8 too high(H),or too low(L) or correct(C)L\n",
            "Is 9 too high(H),or too low(L) or correct(C)L\n",
            "Is 10 too high(H),or too low(L) or correct(C)C\n",
            "Yeah, the computer guessed it right!!\n"
          ]
        }
      ]
    }
  ]
}