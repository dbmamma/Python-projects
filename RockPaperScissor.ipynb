{
  "nbformat": 4,
  "nbformat_minor": 0,
  "metadata": {
    "colab": {
      "provenance": [],
      "authorship_tag": "ABX9TyMWNkIlIGvhG9TV3FwtetNX",
      "include_colab_link": true
    },
    "kernelspec": {
      "name": "python3",
      "display_name": "Python 3"
    },
    "language_info": {
      "name": "python"
    }
  },
  "cells": [
    {
      "cell_type": "markdown",
      "metadata": {
        "id": "view-in-github",
        "colab_type": "text"
      },
      "source": [
        "<a href=\"https://colab.research.google.com/github/dbmamma/Python-projects/blob/main/RockPaperScissor.ipynb\" target=\"_parent\"><img src=\"https://colab.research.google.com/assets/colab-badge.svg\" alt=\"Open In Colab\"/></a>"
      ]
    },
    {
      "cell_type": "code",
      "source": [
        "def is_win(player, opponent):\n",
        "  if (player == 'rock' and opponent == 'scissor') or (player == 'scissor' and oppponent == 'paper') or (player == 'paper' and opponent == 'rock'):\n",
        "    return True"
      ],
      "metadata": {
        "id": "OReLclheL-Rw"
      },
      "execution_count": 4,
      "outputs": []
    },
    {
      "cell_type": "code",
      "execution_count": 5,
      "metadata": {
        "id": "XypHhnqKTLUH"
      },
      "outputs": [],
      "source": [
        "import random\n",
        "def game():\n",
        "  k = 1\n",
        "  while k>0:\n",
        "    person = input(\"Enter either rock, paper, or scissor\\n\")\n",
        "    comp = random.choice(['rock','paper','scissor'])\n",
        "    if person == comp:\n",
        "      print('It\\'s a tie')\n",
        "    elif is_win(person,comp):\n",
        "      print('You won')\n",
        "    else:\n",
        "      print('You lost')\n",
        "    print('Do you want to continue?')\n",
        "    print('If yes then enter a number beyond zero else enter 0')\n",
        "    k=int(input('Enter the number of your choice!'))\n",
        ""
      ]
    },
    {
      "cell_type": "code",
      "source": [
        "game()"
      ],
      "metadata": {
        "colab": {
          "base_uri": "https://localhost:8080/"
        },
        "id": "E-YhwzfBQBvf",
        "outputId": "fb675bc5-d80e-4573-9059-6c1a40e27d12"
      },
      "execution_count": 6,
      "outputs": [
        {
          "name": "stdout",
          "output_type": "stream",
          "text": [
            "Enter either rock, paper, or scissor\n",
            "rock\n",
            "It's a tie\n",
            "Do you want to continue?\n",
            "If yes then enter a number beyond zero else enter 0\n",
            "Enter the number of your choice!0\n"
          ]
        }
      ]
    }
  ]
}